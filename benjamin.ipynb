{
 "cells": [
  {
   "cell_type": "code",
   "execution_count": null,
   "id": "59716162",
   "metadata": {},
   "outputs": [],
   "source": [
    "import asyncio\n",
    "import base64\n",
    "import nest_asyncio\n",
    "from openai import OpenAI\n",
    "from playwright.async_api import async_playwright\n",
    "from IPython.display import display, Markdown\n",
    "\n",
    "import yaml\n",
    "with open(\"config.yaml\", \"r\") as file:\n",
    "    config = yaml.safe_load(file)\n",
    "\n",
    "client = OpenAI(api_key=config[\"OPENAI_KEY_TEST\"],)\n",
    "nest_asyncio.apply()\n",
    "\n",
    "\n",
    "async def get_screenshot(page):\n",
    "    return await page.screenshot()\n",
    "\n",
    "async def handle_model_action(page, action):\n",
    "    display(Markdown(f\"**Action requested:** `{action['type']}`\"))\n",
    "    match action['type']:\n",
    "        case 'click':\n",
    "            await page.mouse.click(action['x'], action['y'], button=action.get('button', 'left'))\n",
    "        case 'scroll':\n",
    "            await page.mouse.move(action['x'], action['y'])\n",
    "            await page.evaluate(f\"window.scrollBy({action['scroll_x']}, {action['scroll_y']})\")\n",
    "        case 'keypress':\n",
    "            for key in action['keys']:\n",
    "                await page.keyboard.press(key)\n",
    "        case 'type':\n",
    "            await page.keyboard.type(action['text'])\n",
    "        case 'wait':\n",
    "            await asyncio.sleep(2)\n",
    "        case _:\n",
    "            print(\"⚠️ Unknown action:\", action['type'])\n"
   ]
  },
  {
   "cell_type": "code",
   "execution_count": null,
   "id": "eb73d1e4",
   "metadata": {},
   "outputs": [
    {
     "data": {
      "application/vnd.jupyter.widget-view+json": {
       "model_id": "a9994fcefdfd4e17add13d6e867669d5",
       "version_major": 2,
       "version_minor": 0
      },
      "text/plain": [
       "Text(value='Dafalgan', description='Medikament:')"
      ]
     },
     "metadata": {},
     "output_type": "display_data"
    },
    {
     "data": {
      "application/vnd.jupyter.widget-view+json": {
       "model_id": "40331aa6116e427a85fdb6de71aec0ac",
       "version_major": 2,
       "version_minor": 0
      },
      "text/plain": [
       "Text(value='Standarddosierung für Erwachsene', description='Frage:')"
      ]
     },
     "metadata": {},
     "output_type": "display_data"
    },
    {
     "data": {
      "application/vnd.jupyter.widget-view+json": {
       "model_id": "2975ffc15c9547b19c3257916b566b2c",
       "version_major": 2,
       "version_minor": 0
      },
      "text/plain": [
       "Button(button_style='success', description='Start', style=ButtonStyle())"
      ]
     },
     "metadata": {},
     "output_type": "display_data"
    }
   ],
   "source": [
    "async def setup_browser():\n",
    "    p = await async_playwright().start()\n",
    "    browser = await p.chromium.launch(headless=False)\n",
    "    page = await browser.new_page()\n",
    "    await page.goto(\"https://compendium.ch\")\n",
    "    await asyncio.sleep(2)\n",
    "    return p, browser, page\n"
   ]
  },
  {
   "cell_type": "code",
   "execution_count": null,
   "id": "2930f009",
   "metadata": {},
   "outputs": [],
   "source": [
    "async def send_initial_prompt(page, med_name, user_question):\n",
    "    display(Markdown(f\"🧠 **Sending prompt to CUA:** _{med_name} – {user_question}_\"))\n",
    "\n",
    "    return client.responses.create(\n",
    "        model=\"computer-use-preview\",\n",
    "        tools=[{\n",
    "            \"type\": \"computer_use_preview\",\n",
    "            \"display_width\": 1280,\n",
    "            \"display_height\": 768,\n",
    "            \"environment\": \"browser\"\n",
    "        }],\n",
    "        input=[\n",
    "            {\"role\": \"user\", \"content\": f\"Suche auf compendium.ch nach '{med_name}' und finde '{user_question}'\"}\n",
    "        ],\n",
    "        reasoning={\"generate_summary\": \"concise\"},\n",
    "        truncation=\"auto\"\n",
    "    )\n"
   ]
  }
 ],
 "metadata": {
  "kernelspec": {
   "display_name": "Python 3",
   "language": "python",
   "name": "python3"
  },
  "language_info": {
   "codemirror_mode": {
    "name": "ipython",
    "version": 3
   },
   "file_extension": ".py",
   "mimetype": "text/x-python",
   "name": "python",
   "nbconvert_exporter": "python",
   "pygments_lexer": "ipython3",
   "version": "3.12.5"
  }
 },
 "nbformat": 4,
 "nbformat_minor": 5
}
